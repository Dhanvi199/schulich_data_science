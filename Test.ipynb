{
 "cells": [
  {
   "cell_type": "code",
   "execution_count": null,
   "metadata": {},
   "outputs": [],
   "source": []
  },
  {
   "cell_type": "markdown",
   "metadata": {},
   "source": [
    "Pushing the Jupyter Notebook to GitHub:\n",
    "In the Explorer view (first icon on the far left of VS Code), click \"Save\" on the Notebook you're working on.\n",
    "Then, in the Source Control view (third icon on the far left), click the \"+\" icon next to the new notebook file to stage the changes.\n",
    "Enter a commit message describing the changes (e.g., \"Add new Jupyter Notebook\").\n",
    "Click the checkmark icon in the upper-left corner to commit the changes.\n",
    "Press Ctrl+Shift+P to open the Command Palette and type \"Git: Push\" in the search bar. Press Enter.\n",
    "The new Jupyter Notebook will be pushed to your GitHub repository.\n",
    "Refreshs your GitHub repository online and open the notebook to validate the changes have been pushed."
   ]
  },
  {
   "cell_type": "markdown",
   "metadata": {},
   "source": []
  }
 ],
 "metadata": {
  "language_info": {
   "name": "python"
  }
 },
 "nbformat": 4,
 "nbformat_minor": 2
}
